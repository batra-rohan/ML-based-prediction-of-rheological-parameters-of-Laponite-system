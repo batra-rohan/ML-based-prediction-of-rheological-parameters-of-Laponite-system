{
 "cells": [
  {
   "cell_type": "code",
   "execution_count": 50,
   "id": "c7133c9e",
   "metadata": {},
   "outputs": [],
   "source": [
    "import pandas as pd\n",
    "import matplotlib.pyplot as plt\n",
    "from sklearn import *\n",
    "import numpy as np\n",
    "import math\n",
    "import torch\n",
    "import gpytorch\n",
    "from sklearn.preprocessing import *"
   ]
  },
  {
   "cell_type": "code",
   "execution_count": 51,
   "id": "dfb1e342",
   "metadata": {},
   "outputs": [],
   "source": [
    "# def weighted_err(mean_pred,l,u,true_val):\n",
    "#     s=0\n",
    "#     for i in range(len(mean_pred)):\n",
    "#         s+=abs((mean_pred[i]-true_val[i]))/(u[i]-l[i])\n",
    "#     error=s/len(mean_pred)\n",
    "#     return error"
   ]
  },
  {
   "cell_type": "code",
   "execution_count": 52,
   "id": "6ae11441",
   "metadata": {},
   "outputs": [],
   "source": [
    "df=pd.read_excel(\"UGP_Data.xlsx\",sheet_name=\"Data_Model\")"
   ]
  },
  {
   "cell_type": "code",
   "execution_count": 53,
   "id": "f4972535",
   "metadata": {
    "scrolled": true
   },
   "outputs": [
    {
     "data": {
      "text/html": [
       "<div>\n",
       "<style scoped>\n",
       "    .dataframe tbody tr th:only-of-type {\n",
       "        vertical-align: middle;\n",
       "    }\n",
       "\n",
       "    .dataframe tbody tr th {\n",
       "        vertical-align: top;\n",
       "    }\n",
       "\n",
       "    .dataframe thead th {\n",
       "        text-align: right;\n",
       "    }\n",
       "</style>\n",
       "<table border=\"1\" class=\"dataframe\">\n",
       "  <thead>\n",
       "    <tr style=\"text-align: right;\">\n",
       "      <th></th>\n",
       "      <th>wt%</th>\n",
       "      <th>salt [mM]</th>\n",
       "      <th>tan delta</th>\n",
       "      <th>delta</th>\n",
       "      <th>Temp</th>\n",
       "      <th>n</th>\n",
       "      <th>noise_n</th>\n",
       "      <th>FD</th>\n",
       "      <th>noise_fd</th>\n",
       "      <th>tg</th>\n",
       "      <th>log_tg</th>\n",
       "      <th>noise_tg</th>\n",
       "      <th>time [h]</th>\n",
       "      <th>G'</th>\n",
       "      <th>G\"</th>\n",
       "      <th>avg_noise_tg</th>\n",
       "      <th>noise_log_tg</th>\n",
       "      <th>S</th>\n",
       "      <th>log_S</th>\n",
       "      <th>noise_S</th>\n",
       "    </tr>\n",
       "  </thead>\n",
       "  <tbody>\n",
       "    <tr>\n",
       "      <th>0</th>\n",
       "      <td>2.8</td>\n",
       "      <td>0.0</td>\n",
       "      <td>0.469</td>\n",
       "      <td>0.438542</td>\n",
       "      <td>30</td>\n",
       "      <td>0.279184</td>\n",
       "      <td>NaN</td>\n",
       "      <td>2.243474</td>\n",
       "      <td>NaN</td>\n",
       "      <td>4332.000000</td>\n",
       "      <td>3.636688</td>\n",
       "      <td>NaN</td>\n",
       "      <td>71.9575</td>\n",
       "      <td>7.760626</td>\n",
       "      <td>3.706306</td>\n",
       "      <td>28.928000</td>\n",
       "      <td>1.461318</td>\n",
       "      <td>8.214593</td>\n",
       "      <td>0.914586</td>\n",
       "      <td>NaN</td>\n",
       "    </tr>\n",
       "    <tr>\n",
       "      <th>1</th>\n",
       "      <td>3.0</td>\n",
       "      <td>0.0</td>\n",
       "      <td>0.383</td>\n",
       "      <td>0.365766</td>\n",
       "      <td>30</td>\n",
       "      <td>0.232854</td>\n",
       "      <td>NaN</td>\n",
       "      <td>2.289626</td>\n",
       "      <td>NaN</td>\n",
       "      <td>2967.883333</td>\n",
       "      <td>3.472447</td>\n",
       "      <td>NaN</td>\n",
       "      <td>49.464722</td>\n",
       "      <td>16.086607</td>\n",
       "      <td>6.871555</td>\n",
       "      <td>28.928000</td>\n",
       "      <td>1.461318</td>\n",
       "      <td>16.823833</td>\n",
       "      <td>1.225925</td>\n",
       "      <td>NaN</td>\n",
       "    </tr>\n",
       "    <tr>\n",
       "      <th>2</th>\n",
       "      <td>3.2</td>\n",
       "      <td>0.0</td>\n",
       "      <td>0.372</td>\n",
       "      <td>0.356138</td>\n",
       "      <td>30</td>\n",
       "      <td>0.226724</td>\n",
       "      <td>NaN</td>\n",
       "      <td>2.295617</td>\n",
       "      <td>NaN</td>\n",
       "      <td>1672.450000</td>\n",
       "      <td>3.223353</td>\n",
       "      <td>NaN</td>\n",
       "      <td>27.874167</td>\n",
       "      <td>20.881245</td>\n",
       "      <td>8.530632</td>\n",
       "      <td>28.928000</td>\n",
       "      <td>1.461318</td>\n",
       "      <td>21.804691</td>\n",
       "      <td>1.338550</td>\n",
       "      <td>NaN</td>\n",
       "    </tr>\n",
       "    <tr>\n",
       "      <th>3</th>\n",
       "      <td>3.4</td>\n",
       "      <td>0.0</td>\n",
       "      <td>0.343</td>\n",
       "      <td>0.330425</td>\n",
       "      <td>30</td>\n",
       "      <td>0.210355</td>\n",
       "      <td>NaN</td>\n",
       "      <td>2.311486</td>\n",
       "      <td>NaN</td>\n",
       "      <td>796.066667</td>\n",
       "      <td>2.900949</td>\n",
       "      <td>NaN</td>\n",
       "      <td>13.267778</td>\n",
       "      <td>26.493461</td>\n",
       "      <td>9.972796</td>\n",
       "      <td>28.928000</td>\n",
       "      <td>1.461318</td>\n",
       "      <td>27.553845</td>\n",
       "      <td>1.440182</td>\n",
       "      <td>NaN</td>\n",
       "    </tr>\n",
       "    <tr>\n",
       "      <th>4</th>\n",
       "      <td>3.6</td>\n",
       "      <td>0.0</td>\n",
       "      <td>0.336</td>\n",
       "      <td>0.324149</td>\n",
       "      <td>30</td>\n",
       "      <td>0.206359</td>\n",
       "      <td>0.000857</td>\n",
       "      <td>2.315331</td>\n",
       "      <td>0.000824</td>\n",
       "      <td>649.033333</td>\n",
       "      <td>2.812267</td>\n",
       "      <td>48.841667</td>\n",
       "      <td>10.817222</td>\n",
       "      <td>31.042231</td>\n",
       "      <td>10.967994</td>\n",
       "      <td>48.841667</td>\n",
       "      <td>1.688790</td>\n",
       "      <td>32.253468</td>\n",
       "      <td>1.508576</td>\n",
       "      <td>9.100433</td>\n",
       "    </tr>\n",
       "  </tbody>\n",
       "</table>\n",
       "</div>"
      ],
      "text/plain": [
       "   wt%  salt [mM]  tan delta     delta  Temp         n   noise_n        FD  \\\n",
       "0  2.8        0.0      0.469  0.438542    30  0.279184       NaN  2.243474   \n",
       "1  3.0        0.0      0.383  0.365766    30  0.232854       NaN  2.289626   \n",
       "2  3.2        0.0      0.372  0.356138    30  0.226724       NaN  2.295617   \n",
       "3  3.4        0.0      0.343  0.330425    30  0.210355       NaN  2.311486   \n",
       "4  3.6        0.0      0.336  0.324149    30  0.206359  0.000857  2.315331   \n",
       "\n",
       "   noise_fd           tg    log_tg   noise_tg   time [h]         G'  \\\n",
       "0       NaN  4332.000000  3.636688        NaN    71.9575   7.760626   \n",
       "1       NaN  2967.883333  3.472447        NaN  49.464722  16.086607   \n",
       "2       NaN  1672.450000  3.223353        NaN  27.874167  20.881245   \n",
       "3       NaN   796.066667  2.900949        NaN  13.267778  26.493461   \n",
       "4  0.000824   649.033333  2.812267  48.841667  10.817222  31.042231   \n",
       "\n",
       "          G\"  avg_noise_tg  noise_log_tg          S     log_S   noise_S  \n",
       "0   3.706306     28.928000      1.461318   8.214593  0.914586       NaN  \n",
       "1   6.871555     28.928000      1.461318  16.823833  1.225925       NaN  \n",
       "2   8.530632     28.928000      1.461318  21.804691  1.338550       NaN  \n",
       "3   9.972796     28.928000      1.461318  27.553845  1.440182       NaN  \n",
       "4  10.967994     48.841667      1.688790  32.253468  1.508576  9.100433  "
      ]
     },
     "execution_count": 53,
     "metadata": {},
     "output_type": "execute_result"
    }
   ],
   "source": [
    "df.head()"
   ]
  },
  {
   "cell_type": "code",
   "execution_count": 54,
   "id": "f3ea234d",
   "metadata": {},
   "outputs": [],
   "source": [
    "dfx=df[[\"wt%\",\"salt [mM]\",\"Temp\"]]\n",
    "dfy=df[[\"n\",\"log_tg\",\"log_S\"]]"
   ]
  },
  {
   "cell_type": "code",
   "execution_count": 55,
   "id": "044881a7",
   "metadata": {},
   "outputs": [],
   "source": [
    "idx=dfx[\"Temp\"]!=30"
   ]
  },
  {
   "cell_type": "code",
   "execution_count": 56,
   "id": "b82b8f50",
   "metadata": {},
   "outputs": [],
   "source": [
    "X=np.array(dfx)\n",
    "y=np.array(dfy)"
   ]
  },
  {
   "cell_type": "code",
   "execution_count": 58,
   "id": "43cec909",
   "metadata": {},
   "outputs": [],
   "source": [
    "X_train,X_test,y_train,y_test=model_selection.train_test_split(X,y,test_size=0.2,random_state=45)\n",
    "outputs=[\"wt(%)\",\"Salt\",\"Temp\"]"
   ]
  },
  {
   "cell_type": "code",
   "execution_count": 59,
   "id": "7538b2fa",
   "metadata": {},
   "outputs": [],
   "source": [
    "sc_X=StandardScaler()\n",
    "sc_X.fit(X)\n",
    "X_train_sc=sc_X.transform(X_train)\n",
    "X_test_sc=sc_X.transform(X_test)"
   ]
  },
  {
   "cell_type": "code",
   "execution_count": 11,
   "id": "37f3fac6-1b1f-4737-af74-0e54b1f28c12",
   "metadata": {},
   "outputs": [
    {
     "name": "stdout",
     "output_type": "stream",
     "text": [
      "X Scaler mean [ 2.5826087   3.24347826 30.        ]\n"
     ]
    }
   ],
   "source": [
    "print(\"X Scaler mean\",sc_X.mean_)"
   ]
  },
  {
   "cell_type": "code",
   "execution_count": 12,
   "id": "e3bc72be-af7c-4693-a64a-3843fada929e",
   "metadata": {},
   "outputs": [
    {
     "name": "stdout",
     "output_type": "stream",
     "text": [
      "X Scaler var [ 0.55100189  5.22941399 21.73913043]\n"
     ]
    }
   ],
   "source": [
    "print(\"X Scaler var\",sc_X.var_)"
   ]
  },
  {
   "cell_type": "code",
   "execution_count": 13,
   "id": "7c59f94f",
   "metadata": {},
   "outputs": [
    {
     "data": {
      "text/plain": [
       "array([[-1.32374416,  1.6427043 ,  0.        ],\n",
       "       [-1.86261347,  0.76811636,  0.        ],\n",
       "       [ 0.29286375, -0.10647158, -2.14476106],\n",
       "       [ 0.29286375, -0.10647158,  4.28952212],\n",
       "       [-0.24600555, -0.10647158,  0.        ],\n",
       "       [-1.59317882,  0.76811636,  0.        ],\n",
       "       [-1.32374416,  0.76811636,  0.        ],\n",
       "       [-1.05430951,  1.6427043 ,  0.        ],\n",
       "       [ 0.0234291 , -0.10647158,  0.        ],\n",
       "       [ 0.29286375,  0.76811636,  0.        ],\n",
       "       [ 1.10116771, -0.98105951,  0.        ],\n",
       "       [-0.78487486, -0.10647158,  0.        ],\n",
       "       [-0.51544021,  1.6427043 ,  0.        ],\n",
       "       [-0.78487486,  1.6427043 ,  0.        ],\n",
       "       [ 1.90947167, -1.41835348,  0.        ],\n",
       "       [ 0.56229841, -0.10647158,  0.        ],\n",
       "       [ 0.29286375, -0.10647158,  2.14476106],\n",
       "       [-1.32374416, -0.10647158,  0.        ],\n",
       "       [-1.05430951,  0.76811636,  0.        ],\n",
       "       [ 0.83173306, -1.41835348,  0.        ],\n",
       "       [-0.24600555, -0.98105951,  0.        ],\n",
       "       [-0.24600555,  1.6427043 ,  0.        ],\n",
       "       [-1.86261347,  1.6427043 ,  0.        ],\n",
       "       [-1.05430951, -0.10647158,  0.        ],\n",
       "       [ 0.56229841, -1.24343589,  0.        ],\n",
       "       [ 1.64003702, -0.10647158,  0.        ],\n",
       "       [ 0.56229841, -1.41835348,  0.        ],\n",
       "       [ 1.10116771, -0.10647158,  0.        ],\n",
       "       [ 1.37060237, -1.41835348,  0.        ],\n",
       "       [-1.59317882,  1.6427043 ,  0.        ],\n",
       "       [-0.51544021, -0.10647158,  0.        ],\n",
       "       [-0.24600555,  0.76811636,  0.        ],\n",
       "       [ 0.0234291 ,  0.76811636,  0.        ],\n",
       "       [ 1.10116771, -1.41835348,  0.        ],\n",
       "       [-0.51544021,  0.76811636,  0.        ],\n",
       "       [ 0.29286375, -0.98105951,  0.        ]])"
      ]
     },
     "execution_count": 13,
     "metadata": {},
     "output_type": "execute_result"
    }
   ],
   "source": [
    "X_train_sc"
   ]
  },
  {
   "cell_type": "code",
   "execution_count": 14,
   "id": "e7eaa4e4",
   "metadata": {},
   "outputs": [
    {
     "data": {
      "image/png": "[encoded data removed]",
      "text/plain": [
       "<Figure size 640x480 with 1 Axes>"
      ]
     },
     "metadata": {},
     "output_type": "display_data"
    }
   ],
   "source": [
    "plt.plot(X_train_sc)\n",
    "plt.legend([\"n\",\"log_tg\",\"log_S\"])\n",
    "plt.grid()"
   ]
  },
  {
   "cell_type": "code",
   "execution_count": 15,
   "id": "0df88680",
   "metadata": {},
   "outputs": [],
   "source": [
    "sc_y=StandardScaler()\n",
    "sc_y.fit(y)\n",
    "y_train_sc=sc_y.transform(y_train)\n",
    "y_test_sc=sc_y.transform(y_test)"
   ]
  },
  {
   "cell_type": "code",
   "execution_count": 16,
   "id": "20f56ecf-75e5-46b5-819e-95bd127c0063",
   "metadata": {},
   "outputs": [
    {
     "name": "stdout",
     "output_type": "stream",
     "text": [
      "Y Scaler mean [0.36045261 2.52201917 0.32363501]\n"
     ]
    }
   ],
   "source": [
    "print(\"Y Scaler mean\",sc_y.mean_)"
   ]
  },
  {
   "cell_type": "code",
   "execution_count": 17,
   "id": "cc379680-0757-41de-838e-a113bf9c3f58",
   "metadata": {},
   "outputs": [
    {
     "name": "stdout",
     "output_type": "stream",
     "text": [
      "Y Scaler var [0.01803499 0.37730585 0.74858488]\n"
     ]
    }
   ],
   "source": [
    "print(\"Y Scaler var\",sc_y.var_)"
   ]
  },
  {
   "cell_type": "code",
   "execution_count": 18,
   "id": "2b57610d",
   "metadata": {},
   "outputs": [],
   "source": [
    "n_mean=sc_y.mean_[0]\n",
    "n_var=sc_y.var_[0]\n",
    "tg_mean=sc_y.mean_[1]\n",
    "tg_var=sc_y.var_[1]\n",
    "s_mean=sc_y.mean_[2]\n",
    "s_var=sc_y.var_[2]"
   ]
  },
  {
   "cell_type": "code",
   "execution_count": 19,
   "id": "756fcd41",
   "metadata": {},
   "outputs": [
    {
     "data": {
      "text/plain": [
       "array([[ 1.72650439, -0.60716762, -1.57345004],\n",
       "       [ 2.30011024,  1.05739518, -2.0112543 ],\n",
       "       [-0.29305743, -0.17427013,  0.23861522],\n",
       "       [-0.73898131, -1.03158339,  0.497535  ],\n",
       "       [ 0.13711709,  0.71827462, -0.15793078],\n",
       "       [ 1.57842561,  0.78079709, -1.50249553],\n",
       "       [ 1.12292656,  0.35331652, -1.18887056],\n",
       "       [ 1.31973748, -1.03356707, -1.33605547],\n",
       "       [-0.34055094,  0.24944861,  0.21704451],\n",
       "       [-0.39227764, -1.36194208,  0.14505496],\n",
       "       [-1.00828842, -0.07036503,  1.03875156],\n",
       "       [ 0.31877105,  1.11985096, -0.40150072],\n",
       "       [ 0.60280879, -1.71457196, -0.80890596],\n",
       "       [ 0.89254941, -1.48138167, -1.04323674],\n",
       "       [-1.35914128, -0.11684134,  1.64068914],\n",
       "       [-0.57416086, -0.15707707,  0.39347779],\n",
       "       [-0.52803573, -0.72903668,  0.42495998],\n",
       "       [ 1.24095728,  1.57057237, -1.13679202],\n",
       "       [ 0.85451482,  0.25148673, -0.94745162],\n",
       "       [-0.99578354,  1.14176863,  1.17302997],\n",
       "       [ 0.64179681,  1.18283471, -0.36791538],\n",
       "       [ 0.1077391 , -2.20866241, -0.46061992],\n",
       "       [ 2.29660202, -0.14427743, -2.04581933],\n",
       "       [ 0.64732276,  1.23007862, -0.72088143],\n",
       "       [-0.77096395,  0.88491418,  0.81646853],\n",
       "       [-1.41186357, -1.59349537,  1.32477552],\n",
       "       [-0.95014262,  1.54729204,  1.042859  ],\n",
       "       [-0.80313193, -0.99105287,  0.7881017 ],\n",
       "       [-1.14742819,  0.4725222 ,  1.36954514],\n",
       "       [ 1.9748649 , -0.5850287 , -1.80688645],\n",
       "       [ 0.23644227,  0.89161019, -0.2561944 ],\n",
       "       [ 0.32369457, -0.84631857, -0.44662106],\n",
       "       [-0.03943011, -1.07074231, -0.17683696],\n",
       "       [-1.11767434,  0.61689681,  1.29049569],\n",
       "       [ 0.34514666, -0.22436245, -0.50853634],\n",
       "       [-0.54336258,  0.98771   ,  0.65314291]])"
      ]
     },
     "execution_count": 19,
     "metadata": {},
     "output_type": "execute_result"
    }
   ],
   "source": [
    "y_train_sc"
   ]
  },
  {
   "cell_type": "code",
   "execution_count": 20,
   "id": "c34377c6",
   "metadata": {},
   "outputs": [
    {
     "data": {
      "image/png": "[encoded data removed]",
      "text/plain": [
       "<Figure size 640x480 with 1 Axes>"
      ]
     },
     "metadata": {},
     "output_type": "display_data"
    }
   ],
   "source": [
    "plt.plot(y_train_sc)\n",
    "plt.legend([\"n\",\"log(tg)\",\"log(S)\"])\n",
    "plt.grid()"
   ]
  },
  {
   "cell_type": "code",
   "execution_count": 22,
   "id": "876e7ecc-2893-42a2-bfd4-3d9d2342460b",
   "metadata": {},
   "outputs": [
    {
     "data": {
      "text/plain": [
       "tensor([[ 0.2929, -0.1065,  0.0000],\n",
       "        [ 1.1012, -1.2434,  0.0000],\n",
       "        [-0.7849,  0.7681,  0.0000],\n",
       "        [ 0.0234, -1.2434,  0.0000],\n",
       "        [ 1.6400, -1.4184,  0.0000],\n",
       "        [ 1.9095, -0.1065,  0.0000],\n",
       "        [ 0.2929, -0.1065, -4.2895],\n",
       "        [ 0.2929, -0.1065,  0.0000],\n",
       "        [ 0.2929, -1.4184,  0.0000],\n",
       "        [ 0.8317, -0.1065,  0.0000]], dtype=torch.float64)"
      ]
     },
     "execution_count": 22,
     "metadata": {},
     "output_type": "execute_result"
    }
   ],
   "source": [
    "X_test_sc"
   ]
  },
  {
   "cell_type": "markdown",
   "id": "24d30a8d",
   "metadata": {},
   "source": [
    "### Creating Polynomial Feature Matrix"
   ]
  },
  {
   "cell_type": "code",
   "execution_count": 48,
   "id": "a2dbd39a",
   "metadata": {},
   "outputs": [],
   "source": [
    "from sklearn.preprocessing import PolynomialFeatures\n",
    "poly = PolynomialFeatures(4)\n",
    "X_train_poly_sc=poly.fit_transform(X_train_sc)\n",
    "X_test_poly_sc=poly.transform(X_test_sc)"
   ]
  },
  {
   "cell_type": "code",
   "execution_count": 49,
   "id": "408c1b98",
   "metadata": {},
   "outputs": [
    {
     "data": {
      "text/plain": [
       "(36, 35)"
      ]
     },
     "execution_count": 49,
     "metadata": {},
     "output_type": "execute_result"
    }
   ],
   "source": [
    "X_train_poly_sc.shape"
   ]
  },
  {
   "cell_type": "markdown",
   "id": "df1dd20f",
   "metadata": {},
   "source": [
    "### Sparse Regression Model for n"
   ]
  },
  {
   "cell_type": "code",
   "execution_count": 25,
   "id": "c9c1b9f6",
   "metadata": {},
   "outputs": [
    {
     "name": "stdout",
     "output_type": "stream",
     "text": [
      "Mean Squared Train Error in scaled space: 0.030452764867215112\n",
      "Mean Squared Test Error in scaled space: 0.025008960519810976\n"
     ]
    }
   ],
   "source": [
    "from sklearn.linear_model import Lasso\n",
    "from sklearn.metrics import mean_squared_error\n",
    "# Initialize the Lasso model with a chosen alpha value\n",
    "lasso_n = Lasso(alpha=0.04)\n",
    "# Fit the model on the training data\n",
    "lasso_n.fit(X_train_poly_sc, y_train_sc[:,0])\n",
    "# Predict on the training data\n",
    "n_pred_train_sc = lasso_n.predict(X_train_poly_sc)\n",
    "# Calculate and print the mean squared error\n",
    "mse_train = mean_squared_error(y_train_sc[:,0], n_pred_train_sc)\n",
    "# Predict on the test data\n",
    "n_pred_test_sc = lasso_n.predict(X_test_poly_sc)\n",
    "# Calculate and print the mean squared error\n",
    "mse_test = mean_squared_error(y_test_sc[:,0], n_pred_test_sc)\n",
    "\n",
    "print(\"Mean Squared Train Error in scaled space:\",mse_train)\n",
    "print(\"Mean Squared Test Error in scaled space:\",mse_test)\n"
   ]
  },
  {
   "cell_type": "code",
   "execution_count": 26,
   "id": "73af2557",
   "metadata": {},
   "outputs": [
    {
     "data": {
      "text/plain": [
       "array([ 0.        , -0.69613005,  0.        , -0.        ,  0.        ,\n",
       "       -0.        , -0.        ,  0.        ,  0.        , -0.        ,\n",
       "       -0.05755402,  0.        , -0.        , -0.01214059,  0.        ,\n",
       "       -0.        ,  0.06636512, -0.        ,  0.        , -0.00246166,\n",
       "        0.039197  , -0.00911893, -0.        ,  0.0014448 ,  0.        ,\n",
       "       -0.        , -0.        , -0.        ,  0.        , -0.        ,\n",
       "        0.        ,  0.        , -0.        ,  0.        , -0.00072615])"
      ]
     },
     "execution_count": 26,
     "metadata": {},
     "output_type": "execute_result"
    }
   ],
   "source": [
    "lasso_n.coef_"
   ]
  },
  {
   "cell_type": "code",
   "execution_count": 27,
   "id": "852231e0",
   "metadata": {},
   "outputs": [],
   "source": [
    "n_pred=n_pred_test_sc*np.sqrt(n_var)+n_mean"
   ]
  },
  {
   "cell_type": "code",
   "execution_count": 28,
   "id": "07f5c077",
   "metadata": {},
   "outputs": [
    {
     "data": {
      "text/plain": [
       "array([0.31938952, 0.22389838, 0.43136563, 0.32755278, 0.17550496,\n",
       "       0.18546365, 0.31246635, 0.31938952, 0.29308847, 0.26730305])"
      ]
     },
     "execution_count": 28,
     "metadata": {},
     "output_type": "execute_result"
    }
   ],
   "source": [
    "n_pred"
   ]
  },
  {
   "cell_type": "code",
   "execution_count": 29,
   "id": "5d178892",
   "metadata": {},
   "outputs": [
    {
     "data": {
      "text/plain": [
       "tensor([0.3002, 0.2628, 0.4205, 0.3389, 0.1914, 0.1542, 0.3349, 0.2982, 0.2792,\n",
       "        0.2649], dtype=torch.float64)"
      ]
     },
     "execution_count": 29,
     "metadata": {},
     "output_type": "execute_result"
    }
   ],
   "source": [
    "y_test[:,0]"
   ]
  },
  {
   "cell_type": "code",
   "execution_count": 30,
   "id": "7dee75a6",
   "metadata": {},
   "outputs": [
    {
     "name": "stdout",
     "output_type": "stream",
     "text": [
      "Mean Squared Test Error for n: 0.0004510362747153306\n"
     ]
    }
   ],
   "source": [
    "mse_n=mean_squared_error(y_test[:,0],n_pred)\n",
    "print(\"Mean Squared Test Error for n:\",mse_n)"
   ]
  },
  {
   "cell_type": "markdown",
   "id": "2c1a771b",
   "metadata": {},
   "source": [
    "### Sparse Regresssion for tg"
   ]
  },
  {
   "cell_type": "code",
   "execution_count": 31,
   "id": "68d8704b",
   "metadata": {},
   "outputs": [
    {
     "name": "stdout",
     "output_type": "stream",
     "text": [
      "Mean Squared Train Error in scaled space: 0.04265589984964148\n",
      "Mean Squared Test Error in scaled space: 0.03929359341879051\n"
     ]
    }
   ],
   "source": [
    "from sklearn.linear_model import Lasso\n",
    "from sklearn.metrics import mean_squared_error\n",
    "# Initialize the Lasso model with a chosen alpha value\n",
    "lasso_tg = Lasso(alpha=0.04)\n",
    "# Fit the model on the training data\n",
    "lasso_tg.fit(X_train_poly_sc, y_train_sc[:,1])\n",
    "# Predict on the training data\n",
    "tg_pred_train_sc = lasso_tg.predict(X_train_poly_sc)\n",
    "# Calculate and print the mean squared error\n",
    "mse_train_tg = mean_squared_error(y_train_sc[:,1], tg_pred_train_sc)\n",
    "# Predict on the test data\n",
    "tg_pred_test_sc = lasso_tg.predict(X_test_poly_sc)\n",
    "# Calculate and print the mean squared error\n",
    "mse_test_tg = mean_squared_error(y_test_sc[:,1], tg_pred_test_sc)\n",
    "print(\"Mean Squared Train Error in scaled space:\",mse_train_tg)\n",
    "print(\"Mean Squared Test Error in scaled space:\",mse_test_tg)"
   ]
  },
  {
   "cell_type": "code",
   "execution_count": 32,
   "id": "8c64f1ca",
   "metadata": {},
   "outputs": [
    {
     "data": {
      "text/plain": [
       "array([ 0.00000000e+00, -8.13663731e-01, -8.77992674e-01, -0.00000000e+00,\n",
       "        0.00000000e+00, -0.00000000e+00, -0.00000000e+00, -0.00000000e+00,\n",
       "        0.00000000e+00, -2.91604537e-02, -5.47871591e-02,  0.00000000e+00,\n",
       "       -0.00000000e+00, -0.00000000e+00,  0.00000000e+00, -0.00000000e+00,\n",
       "       -1.56819741e-01, -0.00000000e+00,  0.00000000e+00, -8.65439925e-03,\n",
       "       -0.00000000e+00, -0.00000000e+00, -0.00000000e+00,  0.00000000e+00,\n",
       "        0.00000000e+00, -0.00000000e+00, -7.25022857e-03, -0.00000000e+00,\n",
       "        0.00000000e+00, -0.00000000e+00, -0.00000000e+00,  0.00000000e+00,\n",
       "       -0.00000000e+00,  0.00000000e+00,  8.05444015e-04])"
      ]
     },
     "execution_count": 32,
     "metadata": {},
     "output_type": "execute_result"
    }
   ],
   "source": [
    "lasso_tg.coef_"
   ]
  },
  {
   "cell_type": "code",
   "execution_count": 33,
   "id": "df7bf839",
   "metadata": {},
   "outputs": [],
   "source": [
    "tg_pred=tg_pred_test_sc*np.sqrt(tg_var)+tg_mean"
   ]
  },
  {
   "cell_type": "code",
   "execution_count": 34,
   "id": "fe2d91bd",
   "metadata": {},
   "outputs": [
    {
     "data": {
      "text/plain": [
       "array([2.45064157, 2.81024103, 2.49254517, 3.38459641, 2.63281009,\n",
       "       1.40922717, 2.70814001, 2.45064157, 3.43660823, 2.1628025 ])"
      ]
     },
     "execution_count": 34,
     "metadata": {},
     "output_type": "execute_result"
    }
   ],
   "source": [
    "tg_pred"
   ]
  },
  {
   "cell_type": "code",
   "execution_count": 35,
   "id": "7c60cb0c",
   "metadata": {},
   "outputs": [
    {
     "data": {
      "text/plain": [
       "tensor([2.2038, 2.7259, 2.4078, 3.4045, 2.7508, 1.4833, 2.6362, 2.5249, 3.6367,\n",
       "        2.1128], dtype=torch.float64)"
      ]
     },
     "execution_count": 35,
     "metadata": {},
     "output_type": "execute_result"
    }
   ],
   "source": [
    "y_test[:,1]"
   ]
  },
  {
   "cell_type": "code",
   "execution_count": 36,
   "id": "944ada67",
   "metadata": {},
   "outputs": [
    {
     "name": "stdout",
     "output_type": "stream",
     "text": [
      "Mean Squared Test Error for tg: 0.01482570284721243\n"
     ]
    }
   ],
   "source": [
    "mse_tg=mean_squared_error(y_test[:,1],tg_pred)\n",
    "print(\"Mean Squared Test Error for tg:\",mse_tg)"
   ]
  },
  {
   "cell_type": "code",
   "execution_count": 60,
   "id": "bfedcbfa",
   "metadata": {},
   "outputs": [],
   "source": [
    "X_sc=sc_X.transform(X)\n",
    "X_poly=poly.transform(X_sc)"
   ]
  },
  {
   "cell_type": "markdown",
   "id": "1b4a3328",
   "metadata": {},
   "source": [
    "### Sparse Regression for S"
   ]
  },
  {
   "cell_type": "code",
   "execution_count": 37,
   "id": "5fdfdba1",
   "metadata": {},
   "outputs": [
    {
     "name": "stdout",
     "output_type": "stream",
     "text": [
      "Mean Squared Train Error in scaled space: 0.0165900745969967\n",
      "Mean Squared Test Error in scaled space: 0.011133879219310963\n"
     ]
    }
   ],
   "source": [
    "from sklearn.linear_model import Lasso\n",
    "from sklearn.metrics import mean_squared_error\n",
    "# Initialize the Lasso model with a chosen alpha value\n",
    "lasso_s = Lasso(alpha=0.03)\n",
    "# Fit the model on the training data\n",
    "lasso_s.fit(X_train_poly_sc, y_train_sc[:,2])\n",
    "# Predict on the training data\n",
    "s_pred_train_sc = lasso_s.predict(X_train_poly_sc)\n",
    "# Calculate and print the mean squared error\n",
    "mse_train_s = mean_squared_error(y_train_sc[:,2], s_pred_train_sc)\n",
    "# Predict on the test data\n",
    "s_pred_test_sc = lasso_s.predict(X_test_poly_sc)\n",
    "# Calculate and print the mean squared error\n",
    "mse_test_s = mean_squared_error(y_test_sc[:,2], s_pred_test_sc)\n",
    "print(\"Mean Squared Train Error in scaled space:\",mse_train_s)\n",
    "print(\"Mean Squared Test Error in scaled space:\",mse_test_s)"
   ]
  },
  {
   "cell_type": "code",
   "execution_count": 38,
   "id": "1256ba07",
   "metadata": {},
   "outputs": [
    {
     "data": {
      "text/plain": [
       "array([ 0.00000000e+00,  7.07971112e-01, -4.20922598e-02,  0.00000000e+00,\n",
       "       -0.00000000e+00, -0.00000000e+00,  0.00000000e+00,  0.00000000e+00,\n",
       "       -0.00000000e+00,  0.00000000e+00,  3.20740520e-02, -0.00000000e+00,\n",
       "        0.00000000e+00,  0.00000000e+00, -0.00000000e+00,  0.00000000e+00,\n",
       "       -1.06283347e-01,  0.00000000e+00, -0.00000000e+00,  1.43765696e-03,\n",
       "       -2.28663835e-02,  0.00000000e+00,  0.00000000e+00,  0.00000000e+00,\n",
       "       -0.00000000e+00,  0.00000000e+00, -0.00000000e+00,  0.00000000e+00,\n",
       "       -0.00000000e+00,  0.00000000e+00,  1.33487732e-02, -0.00000000e+00,\n",
       "        0.00000000e+00, -0.00000000e+00,  4.32436481e-04])"
      ]
     },
     "execution_count": 38,
     "metadata": {},
     "output_type": "execute_result"
    }
   ],
   "source": [
    "lasso_s.coef_"
   ]
  },
  {
   "cell_type": "code",
   "execution_count": 39,
   "id": "d7f282cf",
   "metadata": {},
   "outputs": [
    {
     "data": {
      "text/plain": [
       "array([ 0.53497551,  1.28320181, -0.21627947,  0.61507694,  1.69569978,\n",
       "        1.45485856,  0.56347152,  0.53497551,  0.89176618,  0.87100341])"
      ]
     },
     "execution_count": 39,
     "metadata": {},
     "output_type": "execute_result"
    }
   ],
   "source": [
    "s_pred=s_pred_test_sc*np.sqrt(s_var)+s_mean\n",
    "s_pred"
   ]
  },
  {
   "cell_type": "code",
   "execution_count": 40,
   "id": "d460e443",
   "metadata": {},
   "outputs": [
    {
     "data": {
      "text/plain": [
       "tensor([ 0.6217,  1.1335, -0.2553,  0.5807,  1.6101,  1.6101,  0.5082,  0.6513,\n",
       "         0.9146,  0.9175], dtype=torch.float64)"
      ]
     },
     "execution_count": 40,
     "metadata": {},
     "output_type": "execute_result"
    }
   ],
   "source": [
    "y_test[:,2]"
   ]
  },
  {
   "cell_type": "code",
   "execution_count": 41,
   "id": "37ab3111",
   "metadata": {},
   "outputs": [
    {
     "name": "stdout",
     "output_type": "stream",
     "text": [
      "Mean Squared Test Error for S: 0.008334653668849468\n"
     ]
    }
   ],
   "source": [
    "mse_s=mean_squared_error(y_test[:,2],s_pred)\n",
    "print(\"Mean Squared Test Error for S:\",mse_s)"
   ]
  },
  {
   "cell_type": "code",
   "execution_count": 66,
   "id": "4ff9333c",
   "metadata": {},
   "outputs": [],
   "source": [
    "n_comp_sc=lasso_n.predict(X_poly)\n",
    "n_comp=n_comp_sc*np.sqrt(n_var)+n_mean\n",
    "tg_comp_sc=lasso_tg.predict(X_poly)\n",
    "tg_comp=tg_comp_sc*np.sqrt(tg_var)+tg_mean\n",
    "s_comp_sc=lasso_s.predict(X_poly)\n",
    "s_comp=s_comp_sc*np.sqrt(s_var)+s_mean"
   ]
  },
  {
   "cell_type": "code",
   "execution_count": 68,
   "id": "5e45d281",
   "metadata": {},
   "outputs": [
    {
     "name": "stdout",
     "output_type": "stream",
     "text": [
      "MSE for n on complete dataset 0.0005278719668515474\n"
     ]
    }
   ],
   "source": [
    "print(\"MSE for n on complete dataset\",mean_squared_error(n_comp,y[:,0]))"
   ]
  },
  {
   "cell_type": "code",
   "execution_count": 69,
   "id": "5d420c9e",
   "metadata": {},
   "outputs": [
    {
     "name": "stdout",
     "output_type": "stream",
     "text": [
      "MSE for log(tg) on complete dataset 0.01581853424838092\n"
     ]
    }
   ],
   "source": [
    "print(\"MSE for log(tg) on complete dataset\",mean_squared_error(tg_comp,y[:,1]))"
   ]
  },
  {
   "cell_type": "code",
   "execution_count": 70,
   "id": "25dc0fd8",
   "metadata": {},
   "outputs": [
    {
     "name": "stdout",
     "output_type": "stream",
     "text": [
      "MSE for log(S) on complete dataset 0.01153116048526525\n"
     ]
    }
   ],
   "source": [
    "print(\"MSE for log(S) on complete dataset\",mean_squared_error(s_comp,y[:,2]))"
   ]
  },
  {
   "cell_type": "markdown",
   "id": "b2c4b0b7",
   "metadata": {},
   "source": [
    "### Testing the S vs n hypthesis with Sparse Regression Model"
   ]
  },
  {
   "cell_type": "code",
   "execution_count": 42,
   "id": "59a4e150",
   "metadata": {},
   "outputs": [],
   "source": [
    "weight_var_3=np.arange(1.2,5,0.05)\n",
    "sz=len(weight_var_3)\n",
    "X_test_3=np.transpose(np.vstack((weight_var_3,3*np.ones(sz),30*np.ones(sz))))\n",
    "X_test_3_sc=sc_X.transform(X_test_3)"
   ]
  },
  {
   "cell_type": "code",
   "execution_count": 43,
   "id": "cb97a4ec",
   "metadata": {},
   "outputs": [
    {
     "data": {
      "text/plain": [
       "array([[ 1.2 ,  3.  , 30.  ],\n",
       "       [ 1.25,  3.  , 30.  ],\n",
       "       [ 1.3 ,  3.  , 30.  ],\n",
       "       [ 1.35,  3.  , 30.  ],\n",
       "       [ 1.4 ,  3.  , 30.  ],\n",
       "       [ 1.45,  3.  , 30.  ],\n",
       "       [ 1.5 ,  3.  , 30.  ],\n",
       "       [ 1.55,  3.  , 30.  ],\n",
       "       [ 1.6 ,  3.  , 30.  ],\n",
       "       [ 1.65,  3.  , 30.  ],\n",
       "       [ 1.7 ,  3.  , 30.  ],\n",
       "       [ 1.75,  3.  , 30.  ],\n",
       "       [ 1.8 ,  3.  , 30.  ],\n",
       "       [ 1.85,  3.  , 30.  ],\n",
       "       [ 1.9 ,  3.  , 30.  ],\n",
       "       [ 1.95,  3.  , 30.  ],\n",
       "       [ 2.  ,  3.  , 30.  ],\n",
       "       [ 2.05,  3.  , 30.  ],\n",
       "       [ 2.1 ,  3.  , 30.  ],\n",
       "       [ 2.15,  3.  , 30.  ],\n",
       "       [ 2.2 ,  3.  , 30.  ],\n",
       "       [ 2.25,  3.  , 30.  ],\n",
       "       [ 2.3 ,  3.  , 30.  ],\n",
       "       [ 2.35,  3.  , 30.  ],\n",
       "       [ 2.4 ,  3.  , 30.  ],\n",
       "       [ 2.45,  3.  , 30.  ],\n",
       "       [ 2.5 ,  3.  , 30.  ],\n",
       "       [ 2.55,  3.  , 30.  ],\n",
       "       [ 2.6 ,  3.  , 30.  ],\n",
       "       [ 2.65,  3.  , 30.  ],\n",
       "       [ 2.7 ,  3.  , 30.  ],\n",
       "       [ 2.75,  3.  , 30.  ],\n",
       "       [ 2.8 ,  3.  , 30.  ],\n",
       "       [ 2.85,  3.  , 30.  ],\n",
       "       [ 2.9 ,  3.  , 30.  ],\n",
       "       [ 2.95,  3.  , 30.  ],\n",
       "       [ 3.  ,  3.  , 30.  ],\n",
       "       [ 3.05,  3.  , 30.  ],\n",
       "       [ 3.1 ,  3.  , 30.  ],\n",
       "       [ 3.15,  3.  , 30.  ],\n",
       "       [ 3.2 ,  3.  , 30.  ],\n",
       "       [ 3.25,  3.  , 30.  ],\n",
       "       [ 3.3 ,  3.  , 30.  ],\n",
       "       [ 3.35,  3.  , 30.  ],\n",
       "       [ 3.4 ,  3.  , 30.  ],\n",
       "       [ 3.45,  3.  , 30.  ],\n",
       "       [ 3.5 ,  3.  , 30.  ],\n",
       "       [ 3.55,  3.  , 30.  ],\n",
       "       [ 3.6 ,  3.  , 30.  ],\n",
       "       [ 3.65,  3.  , 30.  ],\n",
       "       [ 3.7 ,  3.  , 30.  ],\n",
       "       [ 3.75,  3.  , 30.  ],\n",
       "       [ 3.8 ,  3.  , 30.  ],\n",
       "       [ 3.85,  3.  , 30.  ],\n",
       "       [ 3.9 ,  3.  , 30.  ],\n",
       "       [ 3.95,  3.  , 30.  ],\n",
       "       [ 4.  ,  3.  , 30.  ],\n",
       "       [ 4.05,  3.  , 30.  ],\n",
       "       [ 4.1 ,  3.  , 30.  ],\n",
       "       [ 4.15,  3.  , 30.  ],\n",
       "       [ 4.2 ,  3.  , 30.  ],\n",
       "       [ 4.25,  3.  , 30.  ],\n",
       "       [ 4.3 ,  3.  , 30.  ],\n",
       "       [ 4.35,  3.  , 30.  ],\n",
       "       [ 4.4 ,  3.  , 30.  ],\n",
       "       [ 4.45,  3.  , 30.  ],\n",
       "       [ 4.5 ,  3.  , 30.  ],\n",
       "       [ 4.55,  3.  , 30.  ],\n",
       "       [ 4.6 ,  3.  , 30.  ],\n",
       "       [ 4.65,  3.  , 30.  ],\n",
       "       [ 4.7 ,  3.  , 30.  ],\n",
       "       [ 4.75,  3.  , 30.  ],\n",
       "       [ 4.8 ,  3.  , 30.  ],\n",
       "       [ 4.85,  3.  , 30.  ],\n",
       "       [ 4.9 ,  3.  , 30.  ],\n",
       "       [ 4.95,  3.  , 30.  ]])"
      ]
     },
     "execution_count": 43,
     "metadata": {},
     "output_type": "execute_result"
    }
   ],
   "source": [
    "X_test_3"
   ]
  },
  {
   "cell_type": "code",
   "execution_count": 66,
   "id": "6d371bea",
   "metadata": {},
   "outputs": [],
   "source": [
    "X_test_3_poly=poly.transform(X_test_3_sc)"
   ]
  },
  {
   "cell_type": "code",
   "execution_count": null,
   "id": "742ade2d",
   "metadata": {},
   "outputs": [],
   "source": []
  }
 ],
 "metadata": {
  "kernelspec": {
   "display_name": "tf",
   "language": "python",
   "name": "python3"
  },
  "language_info": {
   "codemirror_mode": {
    "name": "ipython",
    "version": 3
   },
   "file_extension": ".py",
   "mimetype": "text/x-python",
   "name": "python",
   "nbconvert_exporter": "python",
   "pygments_lexer": "ipython3",
   "version": "3.10.13"
  }
 },
 "nbformat": 4,
 "nbformat_minor": 5
}
